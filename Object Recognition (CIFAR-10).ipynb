{
 "cells": [
  {
   "cell_type": "markdown",
   "metadata": {
    "colab_type": "text",
    "id": "RsP9DVRpRIdG"
   },
   "source": [
    "# Object Recognition using C.N.N. (CIFAR-10)\n",
    "\n",
    "The onset of convolutional neural networks brought about a revolution in the way how a computer \"understands\" images. Computer vision is currently on the bleeding edge of A.I. research, and we have a lot yet to learn. \n",
    "\n",
    "In this detailed IPython Notebook, we will train a classifier to recognize whether the image contains a certain object or not.\n",
    "\n",
    "For this project, I will be using [Google Colab](https://render.githubusercontent.com/https://colab.research.google.com/). For those who are unaware, it is a research project created to disseminate ML education and you can train your neural networks on their Tesla K80 GPUs. It sure speeds up the entire training process. Do check it out."
   ]
  },
  {
   "cell_type": "markdown",
   "metadata": {
    "colab_type": "text",
    "id": "5FQpjWg4Ld6m"
   },
   "source": [
    "## 1.  Connect google Drive.\n",
    "\n",
    "Once connected, we will be able to access the dataset.   "
   ]
  },
  {
   "cell_type": "code",
   "execution_count": 37,
   "metadata": {
    "colab": {
     "base_uri": "https://localhost:8080/",
     "height": 34
    },
    "colab_type": "code",
    "id": "SyTEuhg7fR9P",
    "outputId": "1728eef0-c4f1-4e68-f024-ca15c989b906"
   },
   "outputs": [
    {
     "name": "stdout",
     "output_type": "stream",
     "text": [
      "Mounted at /content/gdrive\n"
     ]
    }
   ],
   "source": [
    "from google.colab import drive\n",
    "drive.mount('/content/gdrive')"
   ]
  },
  {
   "cell_type": "markdown",
   "metadata": {
    "colab_type": "text",
    "id": "UQy7KUb6NBs-"
   },
   "source": [
    "## 2. Import Libraries.\n",
    "Not much to say here..."
   ]
  },
  {
   "cell_type": "code",
   "execution_count": 0,
   "metadata": {
    "colab": {},
    "colab_type": "code",
    "id": "XRPQRtXGmm2W"
   },
   "outputs": [],
   "source": [
    "%matplotlib inline\n",
    "import matplotlib.pyplot as plt\n",
    "\n",
    "import pickle\n",
    "import os\n",
    "import numpy as np\n",
    "from keras.utils import to_categorical\n",
    "from sklearn.model_selection import train_test_split\n",
    "from keras.utils import np_utils\n",
    "from keras.models import Sequential #Initialise our neural network model as a sequential network\n",
    "from keras.layers import Conv2D #Convolution operation\n",
    "from keras.layers.normalization import BatchNormalization\n",
    "from keras.regularizers import l2\n",
    "from keras.layers import Activation#Applies activation function\n",
    "from keras.layers import Dropout#Prevents overfitting by randomly converting few outputs to zero\n",
    "from keras.layers import MaxPooling2D # Maxpooling function\n",
    "from keras.layers import Flatten # Converting 2D arrays into a 1D linear vector\n",
    "from keras.layers import Dense # Regular fully connected neural network\n",
    "from keras import optimizers\n",
    "from keras.callbacks import ReduceLROnPlateau, EarlyStopping, TensorBoard, ModelCheckpoint\n",
    "from sklearn.metrics import accuracy_score\n",
    "import keras\n",
    "\n",
    "from skimage import io\n",
    "from keras import backend as K\n",
    "K.set_image_dim_ordering('th')"
   ]
  },
  {
   "cell_type": "markdown",
   "metadata": {
    "colab_type": "text",
    "id": "naEFok44vevD"
   },
   "source": [
    "We will train our neural network on CIFAR-10 (Canadian Institute For Advanced Research) Dataset. This dataset contains 50,000 images which belong to 10 different classes. The following picture will give you a clear idea.\n",
    "\n",
    "![Dataset Sample](http://parneetk.github.io/images/2017-01-23-cnn-cifar10_files/2017-01-23-cnn-cifar10_8_0.png)\n",
    "\n",
    "Our neural network will learn how to differentiate between an aeroplane, an automobile, a bird, a cat, a deer, a dog, a frog, a horse, a ship, and a truck. We grown-ups can do this in a fraction of a second but computers are nowhere near to our visual prowess.  \n",
    "\n",
    "##  3. Define data loading mechanism\n",
    "\n",
    "The load_data() function will load the dataset into our memory and then prepare it to be used as the train data. Let us have a look at our data. \n",
    "\n",
    "  ![Dataset Overview](https://i.imgur.com/qH6ln2O.png)\n",
    "  \n",
    "The Dataset consists of five data_batches which contain 10,000 images each and another 10,000 images (32 x 32 pixels) in the test_batch, which as the name suggest, we will use to test our model. The contents of the file are pickled and therefore we will have to un-pickle them before we use them. \n",
    "\n",
    "Before we proceed any further, we need to understand how computers understand images. I am going to be a bit verbose, buckle up ;)\n",
    "\n",
    "For computers everything is numbers. Sequences of zeroes and ones, this is what our computer teachers taught us for eons. Let us step back and observe a bit bigger picture. So, Pictures are nothing but a three-dimensional matrix of numbers. Imagine a 2-D plain, which has 32 columns and 32 rows, this setup will contain 32x32 cells. Each cell stores a number which signifies the intensity of the corresponding pixel. Now, imagine two more such plains and each such plain represents the colours Red, Green, and Blue. Where each cell value depicts the colour intensity at that exact point.\n",
    "\n",
    "![Image representation](http://www.ansys.stuba.sk/html/prog_55/graphics/AS397.gif)\n",
    "\n",
    "So when we read the files we get the data stream of numbers which we reshape into a three-dimensional image. We add the image and the label into their respective lists. We do the same for the test batch, which is loaded into the test_data list. We one-hot encode the labels and return all the data in the form of numpy arrays."
   ]
  },
  {
   "cell_type": "code",
   "execution_count": 0,
   "metadata": {
    "colab": {},
    "colab_type": "code",
    "id": "KMcY3nw1TkOd"
   },
   "outputs": [],
   "source": [
    "def load_data():\n",
    "  train_data = []\n",
    "  train_labels = []\n",
    "  \n",
    "  for batch_id in range(1, 6):\n",
    "    if(batch_id == 3): continue\n",
    "    train_path = \"/content/gdrive/My Drive/Colab Notebooks/Object Recognition/Data/\" + \"data_batch_\" + str(batch_id)\n",
    "    with open(train_path, 'rb') as file:\n",
    "      Data = pickle.load(file, encoding='latin1')\n",
    "      data = Data['data'].reshape((len(Data['data']), 3, 32, 32))\n",
    "      labels = Data['labels']\n",
    "      train_data.extend(data)\n",
    "      train_labels.extend(labels)\n",
    "      \n",
    "  \n",
    "  new_train_path = \"/content/gdrive/My Drive/Colab Notebooks/Object Recognition/Data/data_batch_3\"\n",
    "  with open(train_path, 'rb') as file:\n",
    "    Data = pickle.load(file, encoding='latin1')\n",
    "    data = Data['data'].reshape((len(Data['data']), 3, 32, 32))\n",
    "    labels = Data['labels']\n",
    "    train_data.extend(data)\n",
    "    train_labels.extend(labels)\n",
    "  \n",
    "  \n",
    "  test_data = []\n",
    "  test_labels = []\n",
    "  test_path = \"/content/gdrive/My Drive/Colab Notebooks/Object Recognition/Data/test_batch\"\n",
    "  with open(test_path, 'rb') as file:\n",
    "    Data = pickle.load(file, encoding='latin1')\n",
    "    data = Data['data'].reshape((len(Data['data']), 3, 32, 32))\n",
    "    labels = Data['labels']\n",
    "    test_data.extend(data)\n",
    "    test_labels.extend(labels)\n",
    "  \n",
    "  train_labels = np_utils.to_categorical(train_labels)\n",
    "  test_labels = np_utils.to_categorical(test_labels)\n",
    "  \n",
    "  \n",
    "  print(\"Size of training data = \", len(train_data))\n",
    "  print(\"Size of test data = \", len(test_data))\n",
    "      \n",
    "  return np.asarray(train_data), np.asarray(test_data), np.asarray(train_labels), np.asarray(test_labels)"
   ]
  },
  {
   "cell_type": "markdown",
   "metadata": {
    "colab_type": "text",
    "id": "VFFZrnOgWOII"
   },
   "source": [
    "## 4. Load the data.\n"
   ]
  },
  {
   "cell_type": "code",
   "execution_count": 40,
   "metadata": {
    "colab": {
     "base_uri": "https://localhost:8080/",
     "height": 50
    },
    "colab_type": "code",
    "id": "TpdOghEhxmsd",
    "outputId": "d6963b77-ae15-4621-8543-0310d596c6aa"
   },
   "outputs": [
    {
     "name": "stdout",
     "output_type": "stream",
     "text": [
      "Size of training data =  50000\n",
      "Size of test data =  10000\n"
     ]
    }
   ],
   "source": [
    "num_classes = 10\n",
    "train_data, test_data, train_labels, test_labels = load_data()"
   ]
  },
  {
   "cell_type": "markdown",
   "metadata": {
    "colab_type": "text",
    "id": "Rne3AL0_WnF0"
   },
   "source": [
    "## 5. Define and Deploy the neural network.\n",
    "\n",
    "We have built ourselves a Convolutional Neural Network which has convolutional layers armed with filters that extract features out of images.\n",
    "\n",
    "**So, what's new?**  \n",
    "\n",
    "In this sequential neural network, I have employed a l2 kernel_regularizer. l2 regularization peanlizes large weigths to prevent overfitting. This penalizes peaky weights and makes sure that all the inputs are considered. During gradient descent parameter update, the above L2 regularization ultimately means that every weight is decayed linearly, that’s why called weight decay.\n",
    "\n",
    "Callback functions are those functions which are called at the end of every epoch and in this model, we use two callback functions - ReduceLROnPlateau and EarlyStopping. \n",
    "\n",
    "\n",
    "> **1. ReduceLROnPlateau:** monitors a certain variable, in this case, validation loss and alters the learning rate when the value stops significantly changing after some certain number of epochs (patience).\n",
    "\n",
    "> **2. ModelCheckpoin**t: Saves the best version of our model along with the weights, so that in case any crash occurs, our model can be recovered.\n",
    "\n",
    "We have used Keras to deploy our neural network and if you look at the architecture then you will notice that we have used Dropout layers frequently. Dropout layers inhibit overfitting by randomly dropping out units from the neural network. We will use 20 percent of the training data as validation data."
   ]
  },
  {
   "cell_type": "code",
   "execution_count": 0,
   "metadata": {
    "colab": {},
    "colab_type": "code",
    "id": "IEpsWOB4g4TJ"
   },
   "outputs": [],
   "source": [
    "#######HYPERPARAMATERS###########\n",
    "epochs = 200\n",
    "batch_size = 64\n",
    "learning_rate = 0.001\n",
    "weight_decay = 0.0005\n",
    "#################################\n",
    "\n",
    "model = Sequential()\n",
    "model.add(Conv2D(32, (3,3), padding='same', kernel_regularizer=l2(weight_decay), input_shape=(3, 32, 32)))\n",
    "model.add(Activation('relu'))\n",
    "model.add(BatchNormalization())\n",
    "model.add(Conv2D(32, (3,3), padding='same', kernel_regularizer=l2(weight_decay)))\n",
    "model.add(Activation('relu'))\n",
    "model.add(BatchNormalization())\n",
    "model.add(Conv2D(32, (3,3), padding='same', kernel_regularizer=l2(weight_decay)))\n",
    "model.add(Activation('relu'))\n",
    "model.add(BatchNormalization())\n",
    "model.add(MaxPooling2D(pool_size=(2,2)))\n",
    "model.add(Dropout(0.2))\n",
    " \n",
    "model.add(Conv2D(64, (3,3), padding='same', kernel_regularizer=l2(weight_decay)))\n",
    "model.add(Activation('relu'))\n",
    "model.add(BatchNormalization())\n",
    "model.add(Conv2D(64, (3,3), padding='same', kernel_regularizer=l2(weight_decay)))\n",
    "model.add(Activation('relu'))\n",
    "model.add(BatchNormalization())\n",
    "model.add(Conv2D(64, (3,3), padding='same', kernel_regularizer=l2(weight_decay)))\n",
    "model.add(Activation('relu'))\n",
    "model.add(BatchNormalization())\n",
    "model.add(MaxPooling2D(pool_size=(2,2)))\n",
    "model.add(Dropout(0.3))\n",
    " \n",
    "model.add(Conv2D(128, (3,3), padding='same', kernel_regularizer=l2(weight_decay)))\n",
    "model.add(Activation('relu'))\n",
    "model.add(BatchNormalization())\n",
    "model.add(Conv2D(128, (3,3), padding='same', kernel_regularizer=l2(weight_decay)))\n",
    "model.add(Activation('relu'))\n",
    "model.add(BatchNormalization())\n",
    "model.add(Conv2D(128, (3,3), padding='same', kernel_regularizer=l2(weight_decay)))\n",
    "model.add(Activation('relu'))\n",
    "model.add(BatchNormalization())\n",
    "model.add(MaxPooling2D(pool_size=(2,2)))\n",
    "model.add(Dropout(0.4))\n",
    "\n",
    "model.add(Flatten())\n",
    "model.add(Dense(128, activation='relu'))\n",
    "model.add(Dropout(0.4))\n",
    "model.add(Dense(num_classes, activation='softmax'))\n",
    " \n",
    "model.summary()\n",
    "\n",
    "opt_rms = keras.optimizers.rmsprop(lr=learning_rate, decay=1e-6)\n",
    "model.compile(loss='categorical_crossentropy', optimizer=opt_rms, metrics=['accuracy'])\n",
    "\n",
    "lr_reducer = ReduceLROnPlateau(monitor='val_loss', factor=0.9, patience=3)\n",
    "checkpointer = ModelCheckpoint('/content/gdrive/My Drive/Colab Notebooks/Emotion Recognition/Model/weights.hd5', monitor='val_loss', verbose=1, save_best_only=True)\n",
    "\n",
    "model.fit(\n",
    "          train_data,\n",
    "          train_labels,\n",
    "          epochs = epochs,\n",
    "          batch_size = batch_size,\n",
    "          validation_split = 0.2,\n",
    "          shuffle = True,\n",
    "          callbacks=[lr_reducer, checkpointer]\n",
    "          )\n",
    "\n"
   ]
  },
  {
   "cell_type": "markdown",
   "metadata": {
    "colab_type": "text",
    "id": "TD8ppILhFUrz"
   },
   "source": [
    "## 6. Test the model.\n",
    "\n",
    "We trained the neural network and we achieved the **highest validation accuracy of 99.93%**. Now, we will use the test data to check how well our model generalizes. \n",
    "\n",
    "We score an astounding **accuracy of 86.21% on the test set**. Did you notice the massive difference between the validation accuracy and test accuracy? It occured because after a certain number of epochs, our model started overfitting and when we brought in a previously unseen batch of data(test_data) our model didn't perform that well. Though 86.21 is a fine score, there is a lot of scope for improvement."
   ]
  },
  {
   "cell_type": "code",
   "execution_count": 42,
   "metadata": {
    "colab": {
     "base_uri": "https://localhost:8080/",
     "height": 34
    },
    "colab_type": "code",
    "id": "OzhQw9NOWjl3",
    "outputId": "5a58b2a7-4a02-4216-9dcc-9b15f12677bc"
   },
   "outputs": [
    {
     "name": "stdout",
     "output_type": "stream",
     "text": [
      "Accuracy score =  0.8621\n"
     ]
    }
   ],
   "source": [
    "predicted_test_labels = np.argmax(model.predict(test_data), axis=1)\n",
    "#test_labels = np.argmax(test_labels, axis=1)\n",
    "print (\"Accuracy score = \", accuracy_score(test_labels, predicted_test_labels))"
   ]
  },
  {
   "cell_type": "markdown",
   "metadata": {
    "colab_type": "text",
    "id": "CGsta6kKHr82"
   },
   "source": [
    "## 7. Save the model."
   ]
  },
  {
   "cell_type": "code",
   "execution_count": 56,
   "metadata": {
    "colab": {
     "base_uri": "https://localhost:8080/",
     "height": 34
    },
    "colab_type": "code",
    "id": "uiMswpPsr4KK",
    "outputId": "bb8d6f10-bca7-4b25-fac6-cc54c5afe1e2"
   },
   "outputs": [
    {
     "name": "stdout",
     "output_type": "stream",
     "text": [
      "Saved model to disk\n"
     ]
    }
   ],
   "source": [
    "from keras.models import model_from_json\n",
    "model_json = model.to_json()\n",
    "with open(\"/content/gdrive/My Drive/Colab Notebooks/Object Recognition/Model/model-9993.json\", \"w\") as json_file:\n",
    "    json_file.write(model_json)\n",
    " # serialize weights to HDF5\n",
    "model.save_weights(\"/content/gdrive/My Drive/Colab Notebooks/Object Recognition/Model/model-9993.h5\")\n",
    "print(\"Saved model to disk\")"
   ]
  },
  {
   "cell_type": "markdown",
   "metadata": {
    "colab_type": "text",
    "id": "RjoTtPeN3o2d"
   },
   "source": [
    "## 8. Analysis.\n",
    "\n",
    "We are done training and testing our model and got a decent accuracy on the test set as well but it cannot be the sole criteria to judge our model. Now, its time to analyze and we will start off by printing a confusion matrix.\n",
    "\n",
    "\n",
    "### Confusion Matrix\n",
    "Confused about the confusion matrix? Confusion matrix gives us a clear insight into the errors our model is making and what all is it getting right."
   ]
  },
  {
   "cell_type": "code",
   "execution_count": 43,
   "metadata": {
    "colab": {
     "base_uri": "https://localhost:8080/",
     "height": 445
    },
    "colab_type": "code",
    "id": "34JnGCDax3IX",
    "outputId": "a006f131-4649-4bd8-8ae0-0105b49cc936"
   },
   "outputs": [
    {
     "data": {
      "text/plain": [
       "<matplotlib.axes._subplots.AxesSubplot at 0x7f1e77b7fba8>"
      ]
     },
     "execution_count": 43,
     "metadata": {
      "tags": []
     },
     "output_type": "execute_result"
    },
    {
     "data": {
      "image/png": "[encoded data removed]",
      "text/plain": [
       "<matplotlib.figure.Figure at 0x7f1e9068ba90>"
      ]
     },
     "metadata": {
      "tags": []
     },
     "output_type": "display_data"
    }
   ],
   "source": [
    "from sklearn.metrics import confusion_matrix\n",
    "import seaborn as sn\n",
    "import pandas as pd\n",
    "\n",
    "\n",
    "label_names = ['aeroplane', 'automobile', 'bird', 'cat', 'deer', 'dog', 'frog', 'horse', 'ship', 'truck']\n",
    "cm = confusion_matrix(test_labels, predicted_test_labels)\n",
    "df_cm = pd.DataFrame(cm, index = [obj for obj in label_names],\n",
    "                  columns = [obj for obj in label_names])\n",
    "plt.figure(figsize = (10,7))\n",
    "sn.heatmap(df_cm, annot=True)"
   ]
  },
  {
   "cell_type": "markdown",
   "metadata": {
    "colab_type": "text",
    "id": "HwhJ1tgf8aGl"
   },
   "source": [
    "We use _seaborn_ to plot our confusion matrix to make the analysis easier. The y-axis depicts predicted labels while the actual labels are on the x-axis.\n",
    "Let us take the first cell (Top-left) into consideration, this cell represents the number of images which were accurately classified as an aeroplane. Similarly, the forward diagonal represents other correct predictions.\n",
    "\n",
    "41 birds were misclassified as aeroplanes while no automobile was classified as a deer. Notice how a lot of cats are misclassified as dogs, that number is huge. This means that our model did not learn the features of a cat well enough. Trying out a different arrangement of layers may help fix this issue.    "
   ]
  },
  {
   "cell_type": "markdown",
   "metadata": {
    "colab_type": "text",
    "id": "fMz-mpz7RGkd"
   },
   "source": [
    "## Notes\n",
    "\n",
    "Higher accuracies can be obtained by:  \n",
    "  - **Changing the network architecture**.\n",
    "  - **Using Data augmentation**: which is the process of randomly changing the images without interfearing with their interpretations. The images can be zoomed, flipped ,and rotated. For e.g., an image of a plane which is rotated and zoomed will still show a plane and this won't affect the interpretation.\n",
    "  \n",
    "I will be updating this Notebook in the near future, using better techniques as I gain further understanding of the concepts."
   ]
  }
 ],
 "metadata": {
  "accelerator": "GPU",
  "colab": {
   "collapsed_sections": [],
   "name": "Object Recognition",
   "provenance": [],
   "toc_visible": true,
   "version": "0.3.2"
  },
  "kernelspec": {
   "display_name": "Python 3",
   "language": "python",
   "name": "python3"
  },
  "language_info": {
   "codemirror_mode": {
    "name": "ipython",
    "version": 3
   },
   "file_extension": ".py",
   "mimetype": "text/x-python",
   "name": "python",
   "nbconvert_exporter": "python",
   "pygments_lexer": "ipython3",
   "version": "3.6.5"
  }
 },
 "nbformat": 4,
 "nbformat_minor": 1
}
